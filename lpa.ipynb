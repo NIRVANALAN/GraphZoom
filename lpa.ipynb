{
 "cells": [
  {
   "cell_type": "code",
   "execution_count": 53,
   "metadata": {},
   "outputs": [],
   "source": [
    "import dgl\n",
    "import numpy as np\n",
    "import torch\n",
    "import torch.nn as nn\n",
    "from scipy import sparse\n",
    "import networkx as nx\n",
    "from scipy.sparse import diags\n",
    "import torch.nn.functional as F\n",
    "from pathlib import Path\n",
    "\n",
    "import json\n",
    "import time\n",
    "from pathlib import Path\n",
    "from networkx.readwrite import json_graph, read_gpickle\n",
    "from networkx.linalg.laplacianmatrix import laplacian_matrix\n",
    "from scipy.io import mmwrite, mmread\n",
    "from scipy.sparse import csr_matrix\n",
    "import sklearn\n",
    "from scipy.io import mmread, mmwrite # spare save/load\n",
    "from collections import Counter, defaultdict\n",
    "from tqdm import trange, tqdm\n",
    "import pdb"
   ]
  },
  {
   "cell_type": "markdown",
   "metadata": {},
   "source": [
    "# Utils Functions"
   ]
  },
  {
   "cell_type": "code",
   "execution_count": 3,
   "metadata": {},
   "outputs": [],
   "source": [
    "# a = np.array([1, 0, 3])\n",
    "from scipy import sparse\n",
    "def onehot(a): \n",
    "    b = np.zeros((a.size, a.max()+1))\n",
    "    b[np.arange(a.size),a] = 1\n",
    "    return b\n",
    "# onehot(a)\n",
    "\n",
    "def load_matrix(graph):\n",
    "    if 'networkx' in str(type(graph)):\n",
    "        adj_matrix = nx.adj_matrix(graph)\n",
    "    else:\n",
    "        adj_matrix=graph\n",
    "    degree_vec = adj_matrix.sum(axis=1).astype(np.float)\n",
    "    with np.errstate(divide='ignore'):\n",
    "        d_inv_sqrt = np.squeeze(np.asarray(np.power(degree_vec, -1)))\n",
    "    d_inv_sqrt[np.isinf(d_inv_sqrt) | np.isnan(d_inv_sqrt)] = 0\n",
    "    degree_matrix = diags(d_inv_sqrt, 0)\n",
    "    return adj_matrix, degree_matrix\n",
    "\n",
    "def lpa(adj_matrix,degree_matrix, labels,train_mask,test_mask, iteration=10):\n",
    "    influence=labels.copy()\n",
    "    influence[np.arange(train_mask.size,labels.shape[0])]=0  # remove invisible_nodes\n",
    "    for _ in range(iteration):\n",
    "        influence = degree_matrix@adj_matrix@influence\n",
    "        influence[train_mask]=labels[train_mask]\n",
    "    pred=influence.argmax(1)\n",
    "    labels=labels.argmax(1)\n",
    "    border_nodes = (pred!=labels).nonzero()[0]\n",
    "    acc = (pred[test_mask]==labels[test_mask]).sum()/labels[test_mask].size\n",
    "    return influence, acc, border_nodes, influence\n",
    "\n",
    "# influence, acc =lpa(adj_matrix,degree_matrix,onehot_labels,train_mask,iteration=20)"
   ]
  },
  {
   "cell_type": "markdown",
   "metadata": {},
   "source": [
    "## Load Data"
   ]
  },
  {
   "cell_type": "code",
   "execution_count": 4,
   "metadata": {},
   "outputs": [
    {
     "name": "stderr",
     "output_type": "stream",
     "text": [
      "/data/data0/yushi/dgl_env/lib/python3.7/site-packages/dgl/data/citation_graph.py:140: RuntimeWarning: divide by zero encountered in power\n",
      "  r_inv = np.power(rowsum, -1).flatten()\n"
     ]
    },
    {
     "name": "stdout",
     "output_type": "stream",
     "text": [
      "Finished data loading and preprocessing.\n",
      "  NumNodes: 3327\n",
      "  NumEdges: 9228\n",
      "  NumFeats: 3703\n",
      "  NumClasses: 6\n",
      "  NumTrainingSamples: 120\n",
      "  NumValidationSamples: 500\n",
      "  NumTestSamples: 1000\n",
      "Finished data loading and preprocessing.\n",
      "  NumNodes: 19717\n",
      "  NumEdges: 88651\n",
      "  NumFeats: 500\n",
      "  NumClasses: 3\n",
      "  NumTrainingSamples: 60\n",
      "  NumValidationSamples: 500\n",
      "  NumTestSamples: 1000\n",
      "Finished data loading.\n",
      "  NumNodes: 232965\n",
      "  NumEdges: 114615892\n",
      "  NumFeats: 602\n",
      "  NumClasses: 41\n",
      "  NumTrainingSamples: 153431\n",
      "  NumValidationSamples: 23831\n",
      "  NumTestSamples: 55703\n"
     ]
    }
   ],
   "source": [
    "from dgl.data import citation_graph as citegrh\n",
    "cora = citegrh.load_cora()\n",
    "citeseer = citegrh.load_citeseer()\n",
    "pubmed = citegrh.load_pubmed()\n",
    "reddit = dgl.data.RedditDataset()"
   ]
  },
  {
   "cell_type": "code",
   "execution_count": 98,
   "metadata": {},
   "outputs": [],
   "source": [
    "data=reddit\n",
    "dataset='reddit'\n",
    "graph=data.graph\n",
    "labels=data.labels\n",
    "onehot_labels=onehot(data.labels)\n",
    "train_mask=data.train_mask.astype(np.int).nonzero()[0]\n",
    "test_mask=data.test_mask.astype(np.int).nonzero()[0]\n",
    "train_labels = labels[train_mask]\n",
    "onehot_labels = F.one_hot(torch.LongTensor(labels)).numpy()\n",
    "levels = 4\n",
    "reduce_results = f\"graphzoom/reduction_results/{dataset}/no_fusion/\""
   ]
  },
  {
   "cell_type": "code",
   "execution_count": 99,
   "metadata": {},
   "outputs": [],
   "source": [
    "# for reddit\n",
    "\n",
    "dataset_prefix='/data/data0/yushi/'\n",
    "dataset_dir=f'{dataset_prefix}/dataset/{dataset}'\n",
    "npz_path = Path(f'{dataset_dir}/{dataset}.npz')\n",
    "graph = sparse.load_npz(str(npz_path))\n"
   ]
  },
  {
   "cell_type": "markdown",
   "metadata": {},
   "source": [
    "## Run LPA"
   ]
  },
  {
   "cell_type": "code",
   "execution_count": 111,
   "metadata": {},
   "outputs": [],
   "source": [
    "adj_matrix, degree_matrix=load_matrix(graph)\n",
    "# %timeit \n",
    "influence, acc, border_nodes, influence =lpa(adj_matrix,degree_matrix,onehot_labels,train_mask,test_mask,iteration=20)"
   ]
  },
  {
   "cell_type": "code",
   "execution_count": 113,
   "metadata": {},
   "outputs": [
    {
     "data": {
      "text/plain": [
       "5942"
      ]
     },
     "execution_count": 113,
     "metadata": {},
     "output_type": "execute_result"
    }
   ],
   "source": [
    "len(border_nodes)"
   ]
  },
  {
   "cell_type": "markdown",
   "metadata": {},
   "source": [
    "## Coarsen Analysis"
   ]
  },
  {
   "cell_type": "code",
   "execution_count": 91,
   "metadata": {},
   "outputs": [],
   "source": [
    "\n",
    "from graphzoom.utils import construct_proj_laplacian, mtx2matrix\n",
    "def check_agg(nodes, projection):\n",
    "    coarsen_nodes=[]\n",
    "    for node in nodes:\n",
    "        seed=projection[:,node].nonzero()[0][0]\n",
    "        agg_nodes = projection[seed].nonzero()[1]\n",
    "        if agg_nodes.size>1:\n",
    "            coarsen_nodes.append(node)\n",
    "    return coarsen_nodes\n",
    "\n",
    "def onehot_proj(projection, train_mask):\n",
    "#     seed=projection[:,node].nonzero()[0][0]\n",
    "    col, row= [], []\n",
    "    for seed in trange(projection.shape[0]):\n",
    "        agg_nodes = projection[seed].nonzero()[1]\n",
    "#         print(agg_nodes)\n",
    "        train_nodes = [node for node in agg_nodes if node in train_mask]\n",
    "        unknown_nodes = [node for node in agg_nodes if node not in train_nodes]\n",
    "        if len(train_nodes): # \n",
    "            agg_group=defaultdict(list)\n",
    "            for node in train_nodes:\n",
    "                agg_group[labels[node]].append(node)\n",
    "            most_common=sorted(agg_group.items(), key=lambda x:len(x[1]), reverse=True)[0][0]\n",
    "            agg_group[most_common]+=unknown_nodes\n",
    "#             if len(agg_group)>1:\n",
    "#                 pdb.set_trace()\n",
    "            for hypter_node in agg_group:\n",
    "                row+=[row[-1]+1 if len(row) else 0]*len(agg_group[hypter_node])\n",
    "                col+=agg_group[hypter_node]\n",
    "        else: # feed unknown\n",
    "            row += [row[-1]+1 if len(row) else 0] * len(unknown_nodes)\n",
    "            col += unknown_nodes\n",
    "            \n",
    "#     pdb.set_trace()\n",
    "    assert len(col)==projection.shape[1]\n",
    "    data = np.ones(projection.shape[1])\n",
    "    proj = sparse.coo_matrix((data, (row, col)))\n",
    "    return proj"
   ]
  },
  {
   "cell_type": "code",
   "execution_count": 103,
   "metadata": {},
   "outputs": [
    {
     "name": "stdout",
     "output_type": "stream",
     "text": [
      "loading mtx\n",
      "loading finished\n"
     ]
    },
    {
     "data": {
      "text/plain": [
       "[<82494x232965 sparse matrix of type '<class 'numpy.int64'>'\n",
       " \twith 232965 stored elements in Compressed Sparse Row format>,\n",
       " <30592x82494 sparse matrix of type '<class 'numpy.int64'>'\n",
       " \twith 82494 stored elements in Compressed Sparse Row format>,\n",
       " <11865x30592 sparse matrix of type '<class 'numpy.int64'>'\n",
       " \twith 30592 stored elements in Compressed Sparse Row format>,\n",
       " <4888x11865 sparse matrix of type '<class 'numpy.int64'>'\n",
       " \twith 11865 stored elements in Compressed Sparse Row format>]"
      ]
     },
     "execution_count": 103,
     "metadata": {},
     "output_type": "execute_result"
    }
   ],
   "source": [
    "input_path = \"graphzoom/dataset/{}/{}.mtx\".format(dataset, dataset)\n",
    "print('loading mtx')\n",
    "laplacian = mmread(input_path)\n",
    "print('loading finished')\n",
    "projections, coarse_adj = construct_proj_laplacian(laplacian, levels, reduce_results)\n",
    "projections"
   ]
  },
  {
   "cell_type": "markdown",
   "metadata": {},
   "source": [
    "1. one_hot -> merge\n",
    "2. multi_hot -> merge in separate\n",
    "3. unknown -> most?"
   ]
  },
  {
   "cell_type": "code",
   "execution_count": 92,
   "metadata": {},
   "outputs": [
    {
     "name": "stderr",
     "output_type": "stream",
     "text": [
      "100%|██████████| 82494/82494 [00:54<00:00, 1509.34it/s]\n"
     ]
    }
   ],
   "source": [
    "# train_mask\n",
    "proj = [onehot_proj(projections[0], train_mask)]\n",
    "# d={1:[1,2,3],2:[1,2,3,3,3,3,]}\n",
    "# sorted(d.items(), key=lambda x:len(x[1]), reverse=True)1"
   ]
  },
  {
   "cell_type": "code",
   "execution_count": 110,
   "metadata": {},
   "outputs": [
    {
     "data": {
      "text/plain": [
       "array([ 144,  147,  151,  153,  154,  156,  159,  172,  174,  176,  178,\n",
       "        181,  194,  207,  214,  218,  223,  225,  226,  227,  228,  236,\n",
       "        240,  242,  244,  245,  246,  247,  256,  259,  261,  262,  263,\n",
       "        266,  269,  272,  280,  282,  286,  291,  299,  303,  304,  310,\n",
       "        311,  314,  317,  318,  319,  320,  321,  322,  338,  340,  341,\n",
       "        346,  364,  365,  366,  371,  377,  378,  379,  382,  383,  396,\n",
       "        400,  401,  414,  417,  418,  424,  429,  431,  434,  441,  442,\n",
       "        444,  445,  449,  450,  469,  474,  479,  485,  487,  493,  496,\n",
       "        500,  501,  503,  504,  506,  508,  509,  510,  516,  518,  522,\n",
       "        523,  524,  525,  528,  529,  547,  551,  563,  571,  584,  587,\n",
       "        589,  590,  592,  596,  604,  617,  622,  624,  626,  627,  631,\n",
       "        632,  634,  639,  646,  651,  658,  659,  662,  663,  668,  669,\n",
       "        673,  677,  678,  682,  683,  689,  690,  694,  695,  700,  702,\n",
       "        709,  711,  720,  723,  740,  750,  754,  756,  760,  764,  766,\n",
       "        782,  783,  784,  785,  790,  796,  802,  810,  820,  826,  828,\n",
       "        829,  830,  831,  835,  836,  838,  845,  849,  851,  853,  858,\n",
       "        861,  862,  877,  878,  879,  885,  886,  887,  895,  900,  901,\n",
       "        903,  906,  907,  911,  912,  914,  918,  925,  926,  927,  938,\n",
       "        939,  944,  947,  949,  951,  953,  954,  960,  969,  970,  972,\n",
       "        973,  975,  977,  981,  985,  986,  993,  997, 1008, 1010, 1011,\n",
       "       1013, 1017, 1019, 1020, 1023, 1024, 1033, 1049, 1050, 1057, 1062,\n",
       "       1071, 1073, 1079, 1085, 1090, 1091, 1101, 1103, 1104, 1107, 1108,\n",
       "       1109, 1111, 1115, 1133, 1135, 1144, 1146, 1151, 1155, 1156, 1160,\n",
       "       1164, 1165, 1166, 1168, 1169, 1173, 1174, 1182, 1186, 1187, 1188,\n",
       "       1189, 1191, 1199, 1217, 1220, 1226, 1227, 1234, 1235, 1236, 1238,\n",
       "       1239, 1242, 1252, 1253, 1256, 1260, 1262, 1271, 1273, 1276, 1289,\n",
       "       1290, 1292, 1293, 1295, 1301, 1306, 1307, 1308, 1310, 1311, 1315,\n",
       "       1319, 1327, 1335, 1336, 1349, 1351, 1353, 1359, 1366, 1373, 1374,\n",
       "       1375, 1381, 1387, 1390, 1391, 1394, 1395, 1396, 1401, 1402, 1403,\n",
       "       1406, 1407, 1412, 1413, 1415, 1422, 1430, 1431, 1436, 1444, 1452,\n",
       "       1454, 1457, 1458, 1461, 1462, 1463, 1472, 1477, 1478, 1479, 1480,\n",
       "       1485, 1487, 1489, 1491, 1492, 1503, 1504, 1506, 1507, 1508, 1509,\n",
       "       1510, 1511, 1513, 1514, 1517, 1525, 1538, 1541, 1544, 1550, 1551,\n",
       "       1552, 1553, 1554, 1559, 1560, 1565, 1568, 1569, 1570, 1574, 1576,\n",
       "       1577, 1578, 1579, 1580, 1583, 1587, 1589, 1595, 1601, 1605, 1609,\n",
       "       1612, 1617, 1618, 1625, 1629, 1632, 1634, 1637, 1647, 1651, 1663,\n",
       "       1664, 1666, 1667, 1669, 1671, 1676, 1679, 1681, 1682, 1683, 1684,\n",
       "       1688, 1697, 1702, 1708, 1714, 1720, 1721, 1724, 1726, 1727, 1743,\n",
       "       1744, 1746, 1751, 1754, 1756, 1758, 1759, 1762, 1764, 1765, 1767,\n",
       "       1768, 1770, 1772, 1773, 1777, 1779, 1780, 1788, 1789, 1793, 1794,\n",
       "       1795, 1798, 1802, 1813, 1817, 1818, 1824, 1826, 1827, 1838, 1843,\n",
       "       1844, 1845, 1846, 1847, 1849, 1851, 1853, 1857, 1858, 1860, 1861,\n",
       "       1862, 1863, 1869, 1873, 1874, 1875, 1876, 1877, 1878, 1881, 1889,\n",
       "       1892, 1896, 1908, 1910, 1915, 1919, 1920, 1922, 1923, 1924, 1927,\n",
       "       1928, 1929, 1930, 1933, 1938, 1939, 1942, 1944, 1947, 1948, 1949,\n",
       "       1951, 1952, 1954, 1955, 1960, 1963, 1964, 1967, 1969, 1972, 1979,\n",
       "       1981, 1983, 1988, 1996, 1997, 1998, 1999, 2003, 2005, 2006, 2007,\n",
       "       2009, 2010, 2012, 2013, 2015, 2017, 2021, 2029, 2031, 2033, 2035,\n",
       "       2038, 2041, 2042, 2045, 2051, 2055, 2057, 2063, 2064, 2066, 2070,\n",
       "       2073, 2078, 2081, 2090, 2091, 2096, 2105, 2109, 2110, 2112, 2113,\n",
       "       2117, 2119, 2120, 2121, 2124, 2125, 2127, 2128, 2131, 2134, 2136,\n",
       "       2137, 2138, 2141, 2142, 2143, 2145, 2148, 2149, 2150, 2154, 2155,\n",
       "       2158, 2159, 2163, 2172, 2178, 2179, 2181, 2183, 2185, 2188, 2189,\n",
       "       2190, 2192, 2194, 2195, 2201, 2207, 2212, 2215, 2221, 2222, 2225,\n",
       "       2231, 2233, 2236, 2239, 2242, 2243, 2244, 2245, 2247, 2253, 2255,\n",
       "       2256, 2262, 2263, 2264, 2278, 2281, 2283, 2284, 2287, 2288, 2295,\n",
       "       2297, 2303, 2305, 2309, 2319, 2320, 2327, 2331, 2333, 2335, 2338,\n",
       "       2343, 2345, 2346, 2349, 2351, 2358, 2364, 2365, 2366, 2373, 2374,\n",
       "       2375, 2378, 2380, 2382, 2384, 2386, 2387, 2390, 2393, 2394, 2399,\n",
       "       2401, 2404, 2409, 2412, 2413, 2414, 2415, 2416, 2418, 2419, 2423,\n",
       "       2427, 2428, 2432, 2435, 2437, 2438, 2440, 2441, 2442, 2443, 2444,\n",
       "       2447, 2449, 2450, 2452, 2453, 2457, 2458, 2460, 2462, 2464, 2465,\n",
       "       2466, 2468, 2469, 2471, 2473, 2476, 2481, 2484, 2488, 2491, 2494,\n",
       "       2495, 2497, 2502, 2503, 2504, 2506, 2507, 2511, 2512, 2513, 2514,\n",
       "       2515, 2517, 2519, 2521, 2523, 2528, 2529, 2533, 2534, 2537, 2539,\n",
       "       2541, 2542, 2543, 2545, 2547, 2550, 2557, 2558, 2561, 2562, 2570,\n",
       "       2572, 2573, 2575, 2577, 2580, 2583, 2584, 2586, 2590, 2591, 2593,\n",
       "       2595, 2596, 2601, 2602, 2605, 2613, 2614, 2616, 2620, 2621, 2622,\n",
       "       2623, 2626, 2627, 2630, 2631, 2632, 2634, 2635, 2637, 2639, 2640,\n",
       "       2642, 2644, 2648, 2650, 2651, 2656, 2658, 2661, 2667, 2668, 2669,\n",
       "       2672, 2674, 2675, 2677, 2681, 2684, 2689, 2691, 2692, 2694, 2697,\n",
       "       2698, 2700, 2701, 2702])"
      ]
     },
     "execution_count": 110,
     "metadata": {},
     "output_type": "execute_result"
    }
   ],
   "source": [
    "# border_nodes"
   ]
  },
  {
   "cell_type": "code",
   "execution_count": 114,
   "metadata": {},
   "outputs": [
    {
     "name": "stdout",
     "output_type": "stream",
     "text": [
      "5201 5942\n"
     ]
    }
   ],
   "source": [
    "coarse_nodes = check_agg(border_nodes,projections[0])\n",
    "print(len(coarse_nodes), len(border_nodes))\n",
    "from random import shuffle\n",
    "shuffle(coarse_nodes)"
   ]
  },
  {
   "cell_type": "code",
   "execution_count": 496,
   "metadata": {},
   "outputs": [],
   "source": [
    "def add_border_nodes_to_proj_matrix(projection, nodes):\n",
    "    # convert to csc\n",
    "    projs=[]\n",
    "    if type(projection) is not list:\n",
    "        projection=[projection]\n",
    "    # change first projection\n",
    "    proj=projection[0].tocsc()\n",
    "    print(proj.shape)\n",
    "    next_level_size=proj.shape[0]\n",
    "    for node in nodes:\n",
    "        proj.indices[node]=next_level_size\n",
    "        next_level_size+=1\n",
    "    projs.append(sparse.csc_matrix((proj.data, proj.indices,proj.indptr), dtype=np.longlong))\n",
    "    # change via coo_matrix\n",
    "    for i in range(1, len(projection)):\n",
    "        proj = projection[i].tocoo()\n",
    "        data = np.ones(proj.shape[1]+len(nodes)).astype(np.longlong)\n",
    "        col = np.hstack((proj.col, np.arange(proj.shape[1],proj.shape[1]+len(nodes))))\n",
    "        row = np.hstack((proj.row, np.arange(proj.shape[0],proj.shape[0]+len(nodes))))\n",
    "        projs.append(sparse.coo_matrix((data, (row, col))))\n",
    "    \n",
    "    return projs"
   ]
  },
  {
   "cell_type": "code",
   "execution_count": 594,
   "metadata": {},
   "outputs": [
    {
     "name": "stdout",
     "output_type": "stream",
     "text": [
      "(82494, 232965)\n"
     ]
    },
    {
     "data": {
      "text/plain": [
       "[<83494x232965 sparse matrix of type '<class 'numpy.longlong'>'\n",
       " \twith 232965 stored elements in Compressed Sparse Column format>,\n",
       " <31592x83494 sparse matrix of type '<class 'numpy.longlong'>'\n",
       " \twith 83494 stored elements in COOrdinate format>,\n",
       " <12865x31592 sparse matrix of type '<class 'numpy.longlong'>'\n",
       " \twith 31592 stored elements in COOrdinate format>,\n",
       " <5888x12865 sparse matrix of type '<class 'numpy.longlong'>'\n",
       " \twith 12865 stored elements in COOrdinate format>]"
      ]
     },
     "execution_count": 594,
     "metadata": {},
     "output_type": "execute_result"
    }
   ],
   "source": [
    "coarse_nodes_left=1000\n",
    "border_proj=add_border_nodes_to_proj_matrix(projections[:], coarse_nodes[:coarse_nodes_left])\n",
    "proj = border_proj\n",
    "border_proj"
   ]
  },
  {
   "cell_type": "code",
   "execution_count": 96,
   "metadata": {},
   "outputs": [],
   "source": [
    "def overwrite(path):\n",
    "    with open(path, 'r+') as f:\n",
    "        content = f.readlines()[2:]\n",
    "        f.seek(0)\n",
    "        f.writelines(content)\n",
    "        f.truncate()\n",
    "from graphzoom.utils import mtx2matrix\n",
    "prefix=Path(f\"graphzoom/reduction_results/{dataset}/one_hot/\")\n",
    "if not prefix.exists():\n",
    "    prefix.mkdir(parents=True)\n",
    "for i in range(len(proj)):\n",
    "    mmwrite(str(prefix.joinpath(f'Projection_{i+1}.mtx')), proj[i])\n",
    "    overwrite(str(prefix.joinpath(f'Projection_{i+1}.mtx')))\n",
    "# with open(str(prefix.joinpath(f'NumLevels.txt')), 'w') as f:\n",
    "#     f.write(str(len(border_proj)))\n",
    "\n",
    "reduce_results = f\"graphzoom/reduction_results/{dataset}/border/\"\n",
    "border_projs, border_coarse_adj = construct_proj_laplacian(laplacian, 4, reduce_results)\n",
    "mmwrite(str(prefix.joinpath(f'Gs.mtx')), border_coarse_adj[3],symmetry='symmetric')\n",
    "overwrite(str(prefix.joinpath(f'Gs.mtx')))"
   ]
  },
  {
   "cell_type": "code",
   "execution_count": 598,
   "metadata": {},
   "outputs": [
    {
     "data": {
      "text/plain": [
       "[<232965x232965 sparse matrix of type '<class 'numpy.int64'>'\n",
       " \twith 114848857 stored elements in COOrdinate format>,\n",
       " <83494x83494 sparse matrix of type '<class 'numpy.longlong'>'\n",
       " \twith 58028143 stored elements in Compressed Sparse Row format>,\n",
       " <31592x31592 sparse matrix of type '<class 'numpy.longlong'>'\n",
       " \twith 28021941 stored elements in Compressed Sparse Row format>,\n",
       " <12865x12865 sparse matrix of type '<class 'numpy.longlong'>'\n",
       " \twith 11493302 stored elements in Compressed Sparse Row format>]"
      ]
     },
     "execution_count": 598,
     "metadata": {},
     "output_type": "execute_result"
    }
   ],
   "source": [
    "border_coarse_adj"
   ]
  },
  {
   "cell_type": "code",
   "execution_count": 507,
   "metadata": {},
   "outputs": [
    {
     "data": {
      "text/plain": [
       "True"
      ]
     },
     "execution_count": 507,
     "metadata": {},
     "output_type": "execute_result"
    }
   ],
   "source": [
    "(border_projs[0]!=projections[0])"
   ]
  },
  {
   "cell_type": "code",
   "execution_count": 314,
   "metadata": {},
   "outputs": [],
   "source": [
    "g = mtx2matrix(str(prefix.joinpath(f'Gs.mtx')))"
   ]
  },
  {
   "cell_type": "code",
   "execution_count": 373,
   "metadata": {},
   "outputs": [],
   "source": [
    "tg=nx.Graph()\n",
    "# tg.add_nodes_from([1,2,3])\n",
    "tg.add_edge(1,2)\n",
    "tg.add_edge(2,1)"
   ]
  },
  {
   "cell_type": "code",
   "execution_count": null,
   "metadata": {},
   "outputs": [],
   "source": []
  },
  {
   "cell_type": "code",
   "execution_count": null,
   "metadata": {},
   "outputs": [],
   "source": []
  }
 ],
 "metadata": {
  "kernelspec": {
   "display_name": "Python 3",
   "language": "python",
   "name": "python3"
  },
  "language_info": {
   "codemirror_mode": {
    "name": "ipython",
    "version": 3
   },
   "file_extension": ".py",
   "mimetype": "text/x-python",
   "name": "python",
   "nbconvert_exporter": "python",
   "pygments_lexer": "ipython3",
   "version": "3.7.7"
  }
 },
 "nbformat": 4,
 "nbformat_minor": 4
}
